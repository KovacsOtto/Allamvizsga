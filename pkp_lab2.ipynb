{
  "nbformat": 4,
  "nbformat_minor": 0,
  "metadata": {
    "colab": {
      "provenance": [],
      "gpuType": "T4",
      "include_colab_link": true
    },
    "kernelspec": {
      "name": "python3",
      "display_name": "Python 3"
    },
    "language_info": {
      "name": "python"
    },
    "accelerator": "GPU"
  },
  "cells": [
    {
      "cell_type": "markdown",
      "metadata": {
        "id": "view-in-github",
        "colab_type": "text"
      },
      "source": [
        "<a href=\"https://colab.research.google.com/github/KovacsOtto/Allamvizsga/blob/main/pkp_lab2.ipynb\" target=\"_parent\"><img src=\"https://colab.research.google.com/assets/colab-badge.svg\" alt=\"Open In Colab\"/></a>"
      ]
    },
    {
      "cell_type": "markdown",
      "source": [
        "# Labor 2\n",
        "\n",
        "Mint eddig láttuk, a CUDA (Compute Unified Device Architecture) egy párhuzamos számítási platform és [heterogén programozási](https://en.wikipedia.org/wiki/Heterogeneous_computing) modell. A heterogén számítástechnika olyan rendszerekre vonatkozik, amelyek több fajta számítási eszközt, processzort használnak. Ezek esetében a teljesítménynövekedést nem csak az azonos típusú processzorok hozzáadásával érhetjük el, hanem eltérő processzorok használatával is, amelyek általában speciális feldolgozási képességekkel rendelkeznek, bizonyos típusú feladatok hatékony és eredményes kezelésére. Például a grafikus feldolgozó egységek és a CUDA adatpárhuzamos (az egyes processzorokon futó programok ebben az esetben azonosak, csak az általuk feldolgozott adatok különböznek) feladatok megoldására alkalmas igazán.\n",
        "\n",
        "A CUDA lehetővé teszi a programjaink számára, hogy bizonyos típusú grafikus feldolgozó egységeket (GPU) használjanak általános célú számításokhoz, feldolgozáshoz, közvetlen hozzáférést biztosítva a GPU virtuális utasításkészletéhez és párhuzamos számítási elemeihez a számítási kernelek végrehajtásához.\n",
        "\n",
        "A kernel, vagy GPU kód párhuzamosan több szálon futtatott programrészt jelent. Mivel a GPU egy különálló rendszer, saját memóriával, egy tipikus CUDA program a következő lépéseken kell végighaladjon:\n",
        "\n",
        "1. **Memória lefoglalása az eszközön**\n",
        "   - [`cudaMalloc`](https://docs.nvidia.com/cuda/cuda-runtime-api/group__CUDART__MEMORY.html#group__CUDART__MEMORY_1g37d37965bfb4803b6d4e59ff26856356)\n",
        "\n",
        "2. **Gazda memóriából másolás az eszközre**\n",
        "   - [`cudaMemcpy`](https://docs.nvidia.com/cuda/cuda-runtime-api/group__CUDART__MEMORY.html#group__CUDART__MEMORY_1gc263dbe6574220cc776b45438fc351e8), `cudaMemcpyKind kind = cudaMemcpyHostToDevice`\n",
        "\n",
        "3. **Szálblokk és a kernel rács méreteinek meghatározása**\n",
        "\n",
        "4. **A CUDA kernel meghívása**\n",
        "   - `kernel<<<blocks, threadsPerBlock>>>(...)`\n",
        "\n",
        "5. **Szinkronizáció**\n",
        "   - [`cudaDeviceSynchronize();`](https://docs.nvidia.com/cuda/cuda-runtime-api/group__CUDART__DEVICE.html#group__CUDART__DEVICE_1g10e20b05a95f638a4071a655503df25d)\n",
        "\n",
        "   A `cudaDeviceSynchronize()` szükséges, mert a CUDA kernel aszinkron módon indul el, vagyis a CPU folytatná a végrehajtást anélkül, hogy megvárná a GPU számításainak befejezését. Ha azonnal másolnánk az adatokat az eszközről a gazdagép memóriájába, akkor az eredmények még nem feltétlenül állnának rendelkezésre, ami helytelen működéshez vagy memóriasérüléshez vezethet. A `cudaDeviceSynchronize()` biztosítja, hogy a kernel végrehajtása teljesen befejeződjön, mielőtt a további műveletek megtörténnek.\n",
        "\n",
        "6. **Eredmények másolása az eszközről a gazdagép memóriájába**\n",
        "   - [`cudaMemcpy`](https://docs.nvidia.com/cuda/cuda-runtime-api/group__CUDART__MEMORY.html#group__CUDART__MEMORY_1gc263dbe6574220cc776b45438fc351e8), `cudaMemcpyKind kind = cudaMemcpyDeviceToHost`\n",
        "\n",
        "7. **Memória felszabadítása a GPU-n**\n",
        "   - [`cudaFree`](https://docs.nvidia.com/cuda/cuda-runtime-api/group__CUDART__MEMORY.html#group__CUDART__MEMORY_1ga042655cbbf3408f01061652a075e094)\n",
        "\n"
      ],
      "metadata": {
        "id": "ikVGiziWBV53"
      }
    },
    {
      "cell_type": "markdown",
      "source": [
        "## CUDA szálak szervezése\n",
        "\n",
        "A CUDA programozásban a szálak szervezése kulcsfontosságú a hatékony és jól érthető párhuzamos feldolgozás szempontjából.\n",
        "\n",
        "A CUDA egy speciális `dim3` nevű struktúrát biztosít a többdimenziós indexeléshez:\n",
        "\n",
        "```cpp\n",
        "struct dim3 {\n",
        "    unsigned int x, y, z;\n",
        "    // Alapértelmezetten: (1,1,1)\n",
        "};\n",
        "```\n",
        "\n",
        "Ez a struktúra lehetővé teszi a szálak és blokkok szervezését akár 3 dimenzióban, ami különösen hasznos többdimenziós problémák (pl. képfeldolgozás, mátrix műveletek) esetén.\n",
        "\n",
        "### Szálak hierarchikus szervezése\n",
        "\n",
        "A CUDA két szinten szervezi a szálakat:\n",
        "\n",
        "1. **Blokkok** (thread blocks): Szálak csoportjai, amelyek ugyanazon az SM-en (Streaming Multiprocessor) futnak\n",
        "2. **Rácsok** (grids): Blokkok csoportjai, amelyek egy kernelt hajtanak végre\n",
        "\n",
        "Amikor egy kernelt elindítunk, meghatározzuk a rács és a blokk méreteit:\n",
        "\n",
        "```cpp\n",
        "dim3 blockDim(16, 16, 1);  // 16x16 szál blokkonként (2D)\n",
        "dim3 gridDim(ceil(N/16.0), ceil(N/16.0), 1);  // Elegendő blokk a teljes adathoz\n",
        "\n",
        "myKernel<<<gridDim, blockDim>>>(adatok, N);\n",
        "```\n",
        "\n",
        "\n",
        "\n",
        "\n",
        "![](data:image/png;base64,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)\n",
        "\n",
        "\n",
        "Ábra 1. Szálak hierarchikus szervezése. [Forrás](https://www.ce.jhu.edu/dalrymple/classes/602/Class10.pdf)\n",
        "\n",
        "### Indexelés a kernelek belsejében\n",
        "\n",
        "A kernelen belül a CUDA beépített változókat biztosít a szálak azonosítására:\n",
        "\n",
        "```cpp\n",
        "// Blokkon belüli szál azonosítók\n",
        "threadIdx.x, threadIdx.y, threadIdx.z\n",
        "\n",
        "// Blokk azonosítók a rácsban\n",
        "blockIdx.x, blockIdx.y, blockIdx.z\n",
        "\n",
        "// Blokk és rács dimenziók\n",
        "blockDim.x, blockDim.y, blockDim.z\n",
        "gridDim.x, gridDim.y, gridDim.z\n",
        "```\n",
        "\n",
        "### A többdimenziós logikai szervezés előnyei\n",
        "\n",
        "Bár az adatok linearizált memóriában vannak tárolva (pl. `float* adatok`), a többdimenziós indexelés számos előnnyel jár:\n",
        "\n",
        "1. **Természetes problémaleképezés**: A legtöbb párhuzamos probléma természetesen többdimenziós (pl. képek, mátrixok)\n",
        "\n",
        "2. **Könnyebb kód olvashatóság**: A 2D vagy 3D indexelés intuitívabb, mint a linearizált indexek\n",
        "\n",
        "3. **Hatékonyabb memóriaelérés**: A megfelelő szálszervezéssel optimalizálhatjuk a memória koaleszcenciát\n",
        "\n",
        "## Példa: 2D mátrix feldolgozás\n",
        "\n",
        "Tegyük fel, hogy egy NxN mátrixot dolgozunk fel:\n",
        "\n",
        "```cpp\n",
        "__global__ void matrixKernel(float* A, int N) {\n",
        "    // Kiszámítjuk a 2D indexeket\n",
        "    int row = blockIdx.y * blockDim.y + threadIdx.y;\n",
        "    int col = blockIdx.x * blockDim.x + threadIdx.x;\n",
        "    \n",
        "    if (row < N && col < N) {\n",
        "        // Linearizáljuk az indexet a memóriaművelethez\n",
        "        int idx = row * N + col;\n",
        "        \n",
        "        // Mátrix feldolgozás\n",
        "        A[idx] = valamiSzámítás(A[idx]);\n",
        "    }\n",
        "}\n",
        "\n",
        "// Kernel indítása\n",
        "dim3 threadsPerBlock(16, 16);\n",
        "dim3 numBlocks((N + threadsPerBlock.x - 1) / threadsPerBlock.x,\n",
        "               (N + threadsPerBlock.y - 1) / threadsPerBlock.y);\n",
        "matrixKernel<<<numBlocks, threadsPerBlock>>>(d_A, N);\n",
        "```\n",
        "\n",
        "Figyeljük meg, hogyan:\n",
        "1. Definiáljuk a logikai szálszervezést a `dim3` használatával\n",
        "2. Számítjuk ki a 2D koordinátákat a kernelen belül\n",
        "3. Linearizáljuk ezeket a koordinátákat a memória eléréséhez (az Adatstruktúránk `float* A`)\n",
        "\n",
        "## A blokkméretek kiválasztásának szempontjai\n",
        "\n",
        "A hatékony szálszervezéshez figyelembe kell venni a következőket:\n",
        "\n",
        "- **Warp méret**: A CUDA 32 szálat csoportosít warpokba, így a blokkméret legyen 32 többszöröse (pl. 128, 256)\n",
        "- **Foglaltság**: Túl nagy blokkok csökkenthetik az SM foglaltságot\n",
        "- **Közös memória**: A közös memória korlátozhatja a blokkméretet\n",
        "- **Memória koaleszcencia**: A közeli szálak hasonló memóriacímeket érjenek el\n",
        "\n",
        "\n",
        "A dim3 struktúra és a CUDA szálszervezési modellje lehetővé teszi a szálak logikai szervezését, miközben a tényleges adatokat linearizált tömbökben tároljuk. Ez az absztrakció segít a programozóknak intuitívabb módon gondolkodni a párhuzamos problémákról, miközben kihasználják a GPU hardver sajátosságait a maximális teljesítmény érdekében.\n",
        "\n",
        "\n"
      ],
      "metadata": {
        "id": "B3pt7GtriXCH"
      }
    },
    {
      "cell_type": "markdown",
      "source": [
        "## Példa\n",
        "\n",
        "A példaprogram egy értéklevágó (value clipper) implementációját mutatja be, amely CUDA heterogén számítási környezetben működik. A program egy egyszerű, de fontos feladatot old meg: értékeket korlátoz egy megadott tartományra (jelen esetben 0 és 255 közé, `float f_also, float f_felso`).\n",
        "\n",
        "Figyeljük meg, ismételjük át a heterogén számítási koncepciók megvalósítását: hogyan történik a memóriafoglalás külön a CPU-n (host) és GPU-n (device), hogyan másolunk adatokat a két eszköz között, hogyan konfigurálunk és indítunk egy CUDA kernelt, valamint hogyan működik a párhuzamos végrehajtási modell.\n",
        "\n",
        "\n",
        "Tanulmányozzák a szálak indexelését, a blokkok és szálak konfigurációját, és hogyan biztosítjuk a helyes szinkronizációt a műveletek között. Figyeljük meg  az `if (i_idx < n_elemSzam)` ellenőrzést, amely garantálja, hogy csak érvényes memóriaterülethez férünk hozzá – ez a határellenőrzés elengedhetetlen a memóriasértések és nem definiált viselkedés elkerülése érdekében, mivel a CUDA blokkméretei miatt gyakran több szálat indítunk, mint ahány elemünk valójában van.\n",
        "\n",
        "Általában miért nem indíthatunk pontosan annyi szálat, ahány adatelemünk van? A CUDA architektúra warp-okban (általában 32 szál) és blokkokban szervezi a végrehajtást, így a szálak számát a blokkméretek egész többszöröseire kell kerekítenünk. Emiatt használjuk a `(n_elemSzam + i_szalakSzamaBlokkonkent - 1) / i_szalakSzamaBlokkonkent` képletet a szükséges blokkok számának meghatározásához, ami általában több szálat eredményez, mint az adatok mennyisége, mindig szükségessé téve az index-ellenőrzést a kernelben.\n",
        "\n",
        "```cpp\n",
        "#include <stdio.h>\n",
        "#include <stdlib.h>\n",
        "#include <cuda_runtime.h>\n",
        "          \n",
        "// Elemek száma (Number of elements)\n",
        "#define n_elemSzam 10\n",
        "\n",
        "// CUDA kernel függvény az értékek levágására\n",
        "// (CUDA kernel function for clipping values)\n",
        "__global__ void clipValuesKernel(float* d_adatok, int n, float f_also, float f_felso) {\n",
        "    // A szál indexének kiszámítása\n",
        "    // (Calculate thread index)\n",
        "    int i_idx = blockIdx.x * blockDim.x + threadIdx.x;\n",
        "    \n",
        "    // Ellenőrizzük, hogy a szál indexe érvényes-e\n",
        "    // (Check if thread index is valid)\n",
        "    if (i_idx < n) {\n",
        "        // Értékek levágása a megadott tartományba\n",
        "        // (Clip values to the specified range)\n",
        "        if (d_adatok[i_idx] < f_also) {\n",
        "            d_adatok[i_idx] = f_also;\n",
        "        }\n",
        "        else if (d_adatok[i_idx] > f_felso) {\n",
        "            d_adatok[i_idx] = f_felso;\n",
        "        }\n",
        "    }\n",
        "}\n",
        "\n",
        "int main() {\n",
        "    // Bemeneti paraméterek\n",
        "    // (Input parameters)\n",
        "    \n",
        "    float f_also = 0.0f;           // Alsó határ (Lower bound)\n",
        "    float f_felso = 255.0f;        // Felső határ (Upper bound)\n",
        "    \n",
        "    size_t sz_meret = n_elemSzam * sizeof(float);\n",
        "    \n",
        "    float h_bemenet[n_elemSzam];\n",
        "    float h_kimenet[n_elemSzam];\n",
        "    \n",
        "    // Minta bemeneti adatok létrehozása\n",
        "    // (Create sample input data)\n",
        "    printf(\"Eredeti értékek (Original values):\\n\");\n",
        "    for (int i = 0; i < n_elemSzam; i++) {\n",
        "        // -100 és 400 közötti véletlenszerű értékek generálása\n",
        "        // (Generate random values between -100 and 400)\n",
        "        h_bemenet[i] = ((float)rand() / RAND_MAX) * 500.0f - 100.0f;\n",
        "        printf(\"%.2f \", h_bemenet[i]);\n",
        "    }\n",
        "    printf(\"\\n\");\n",
        "    \n",
        "    // GPU memória (device) foglalása - HETEROGÉN SZÁMÍTÁS KEZDETE\n",
        "    // (Allocate GPU memory (device) - BEGINNING OF HETEROGENEOUS COMPUTING)\n",
        "    float* d_adatok;\n",
        "    cudaMalloc((void**)&d_adatok, sz_meret);\n",
        "    \n",
        "    // Adatok másolása a host-ról a device-ra\n",
        "    // (Copy data from host to device)\n",
        "    cudaMemcpy(d_adatok, h_bemenet, sz_meret, cudaMemcpyHostToDevice);\n",
        "    \n",
        "    // CUDA kernel konfigurálása és futtatása\n",
        "    // (Configure and run CUDA kernel)\n",
        "    int i_szalakSzamaBlokkonkent = 256;\n",
        "    int i_blokkokSzama = (n_elemSzam + i_szalakSzamaBlokkonkent - 1) / i_szalakSzamaBlokkonkent;\n",
        "    \n",
        "    // Kernel futtatása a GPU-n\n",
        "    // (Run kernel on GPU)\n",
        "    clipValuesKernel<<<i_blokkokSzama, i_szalakSzamaBlokkonkent>>>(d_adatok, n_elemSzam, f_also, f_felso);\n",
        "    \n",
        "    // Várakozás a kernel befejezésére\n",
        "    // (Wait for kernel to complete)\n",
        "    cudaDeviceSynchronize();\n",
        "    \n",
        "    // Eredmények másolása a device-ról vissza a host-ra\n",
        "    // (Copy results from device back to host)\n",
        "    cudaMemcpy(h_kimenet, d_adatok, sz_meret, cudaMemcpyDeviceToHost);\n",
        "    \n",
        "    // GPU memória felszabadítása\n",
        "    // (Free GPU memory)\n",
        "    cudaFree(d_adatok);\n",
        "    // HETEROGÉN SZÁMÍTÁS VÉGE\n",
        "    // (END OF HETEROGENEOUS COMPUTING)\n",
        "    \n",
        "    // Eredmények kiírása\n",
        "    // (Print results)\n",
        "    printf(\"Levágott értékek (Clipped values) [%.2f, %.2f]:\\n\", f_also, f_felso);\n",
        "    for (int i = 0; i < n_elemSzam; i++) {\n",
        "        printf(\"%.2f \", h_kimenet[i]);\n",
        "    }\n",
        "    printf(\"\\n\");\n",
        "    \n",
        "    return 0;\n",
        "}\n",
        "\n",
        "```"
      ],
      "metadata": {
        "id": "D1DRU2_Yiaa7"
      }
    },
    {
      "cell_type": "markdown",
      "source": [
        "# Képek olvasása\n",
        "\n",
        "Az ingyenes [CImg Library](https://cimg.eu) egy egyszerű, könnyen használható C++ könyvtár, amely lehetővé teszi a képek manipulálását, feldolgozását és megjelenítését. A könyvtár könnyen telepíthető és használható a fejlesztők számára, és számos képfeldolgozási feladatot meg lehet vele oldani.\n",
        "\n",
        "Példa kód a CImg Library használatára, kép beolvasására majd kiírására:\n",
        "\n",
        "```cpp\n",
        "#include <iostream>\n",
        "#include \"CImg.h\"\n",
        "\n",
        "using namespace cimg_library;\n",
        "\n",
        "int main() {\n",
        "  CImg<unsigned char> image(\"example.jpg\"); // kép betöltése\n",
        "  image.blur(2.5); // elmosás\n",
        "  image.save(\"blurred.jpg\"); // elmosott kép mentése\n",
        "\n",
        "  return 0;\n",
        "}\n",
        "```\n"
      ],
      "metadata": {
        "id": "D3p-x-oO_h3I"
      }
    },
    {
      "cell_type": "markdown",
      "source": [
        "A telepítéshez a Google Colab környezetben, használjuk a köcetkező parancsot:"
      ],
      "metadata": {
        "id": "RK40lBmEB4NS"
      }
    },
    {
      "cell_type": "code",
      "source": [
        "!apt-get install cimg-dev"
      ],
      "metadata": {
        "colab": {
          "base_uri": "https://localhost:8080/"
        },
        "id": "R5YoixBN2N4N",
        "outputId": "052baf59-edd5-482e-9f79-cfe90ab424c1"
      },
      "execution_count": null,
      "outputs": [
        {
          "output_type": "stream",
          "name": "stdout",
          "text": [
            "Reading package lists... Done\n",
            "Building dependency tree... Done\n",
            "Reading state information... Done\n",
            "The following additional packages will be installed:\n",
            "  libxrandr-dev\n",
            "Suggested packages:\n",
            "  xmedcon lapack3-dev cimg-doc cimg-examples libgraphicsmagick++1-dev\n",
            "  | libmagick++-dev libfftw3-dev | fftw3-dev libgimp2.0-dev libhighgui-dev\n",
            "  libtiff5-dev\n",
            "The following NEW packages will be installed:\n",
            "  cimg-dev libxrandr-dev\n",
            "0 upgraded, 2 newly installed, 0 to remove and 38 not upgraded.\n",
            "Need to get 554 kB of archives.\n",
            "After this operation, 5,537 kB of additional disk space will be used.\n",
            "Get:1 http://archive.ubuntu.com/ubuntu jammy/main amd64 libxrandr-dev amd64 2:1.5.2-1build1 [26.7 kB]\n",
            "Get:2 http://archive.ubuntu.com/ubuntu jammy/universe amd64 cimg-dev all 2.9.4+dfsg-3 [527 kB]\n",
            "Fetched 554 kB in 2s (294 kB/s)\n",
            "Selecting previously unselected package libxrandr-dev:amd64.\n",
            "(Reading database ... 126675 files and directories currently installed.)\n",
            "Preparing to unpack .../libxrandr-dev_2%3a1.5.2-1build1_amd64.deb ...\n",
            "Unpacking libxrandr-dev:amd64 (2:1.5.2-1build1) ...\n",
            "Selecting previously unselected package cimg-dev.\n",
            "Preparing to unpack .../cimg-dev_2.9.4+dfsg-3_all.deb ...\n",
            "Unpacking cimg-dev (2.9.4+dfsg-3) ...\n",
            "Setting up libxrandr-dev:amd64 (2:1.5.2-1build1) ...\n",
            "Setting up cimg-dev (2.9.4+dfsg-3) ...\n",
            "Processing triggers for man-db (2.10.2-1) ...\n"
          ]
        }
      ]
    },
    {
      "cell_type": "markdown",
      "source": [
        "A [wget](https://www.gnu.org/software/wget/) parancs segítségével töltsünk le egy képet, melyet majd fel fogunk dolgozni:"
      ],
      "metadata": {
        "id": "f3O7kv_5B9m4"
      }
    },
    {
      "cell_type": "code",
      "source": [
        "!wget --no-check-certificate -O image.jpg https://images.unsplash.com/photo-1570641963303-92ce4845ed4c?ixlib=rb-4.0.3&ixid=MnwxMjA3fDB8MHxwaG90by1wYWdlfHx8fGVufDB8fHx8&auto=format&fit=crop&w=987&q=80"
      ],
      "metadata": {
        "colab": {
          "base_uri": "https://localhost:8080/"
        },
        "id": "gqq19CApzGyz",
        "outputId": "74743ea7-3742-4018-b8ba-454ff987be97"
      },
      "execution_count": null,
      "outputs": [
        {
          "output_type": "stream",
          "name": "stdout",
          "text": [
            "--2025-10-24 15:47:51--  https://images.unsplash.com/photo-1570641963303-92ce4845ed4c?ixlib=rb-4.0.3\n",
            "Resolving images.unsplash.com (images.unsplash.com)... 151.101.2.208, 151.101.66.208, 151.101.130.208, ...\n",
            "Connecting to images.unsplash.com (images.unsplash.com)|151.101.2.208|:443... connected.\n",
            "HTTP request sent, awaiting response... 200 OK\n",
            "Length: 4675983 (4.5M) [image/jpeg]\n",
            "Saving to: ‘image.jpg’\n",
            "\n",
            "\rimage.jpg             0%[                    ]       0  --.-KB/s               \rimage.jpg           100%[===================>]   4.46M  --.-KB/s    in 0.01s   \n",
            "\n",
            "2025-10-24 15:47:51 (339 MB/s) - ‘image.jpg’ saved [4675983/4675983]\n",
            "\n"
          ]
        }
      ]
    },
    {
      "cell_type": "markdown",
      "source": [
        "A `CImg` osztály `data()` metódusa lehetővé teszi a képpixelekhez való közvetlen hozzáférést. A `data()` metódus egy pointert térit vissza, amely az első pixelre mutat.  Az adatok típusa az unsigned char tömb, és a képpontok sorfolytonosan, színkanálisónként íródnak. Tehát, nem átlapoltan `RGBRGBRGB...` formában, hanem előszőr a pixelek vörös intenzitása, majd a zöld aztán a kék: `RRRR...GGGG...BBBB`.\n",
        "\n",
        "Az alábbi példa bemutatja, hogy a `data()` metódus használatával, hogyan tudjuk a képontokat direkt módon elérni, és egy képet szürkeárnyalatuvá alakítani:"
      ],
      "metadata": {
        "id": "CFjrJnHEC5Mp"
      }
    },
    {
      "cell_type": "code",
      "source": [
        "%%writefile grayscale.cu\n",
        "#define cimg_use_jpeg\n",
        "#include \"CImg.h\"\n",
        "#include <iostream>\n",
        "\n",
        "using namespace cimg_library;\n",
        "using namespace std;\n",
        "\n",
        "void grayscale_cpu(unsigned char *r, unsigned char *g, unsigned char *b, unsigned char *grayimg, int width, int height, float wR, float wG){\n",
        "    for (int row = 0; row < height; row++)\n",
        "      for (int col = 0; col < width; col++) {\n",
        "        int offset = row*width + col;\n",
        "        unsigned val = wR*r[offset] + wG*g[offset] + (1-wR-wG)*b[offset];\n",
        "        grayimg[offset] = val;\n",
        "      }\n",
        "}\n",
        "\n",
        "int main() {\n",
        "  CImg<unsigned char> src(\"./image.jpg\");\n",
        "\n",
        "  int width = src.width();\n",
        "  int height = src.height();\n",
        "  cout << width << \"x\" << height << endl;\n",
        "\n",
        "  unsigned char *r = src.data();\n",
        "  unsigned char *g = r + width*height;\n",
        "  unsigned char *b = g + width*height;;\n",
        "\n",
        "  int numberOfColorChannels = 1;\n",
        "  CImg<unsigned char> dest(width, height, 1, numberOfColorChannels);\n",
        "\n",
        "  unsigned char * gray = dest.data();\n",
        "\n",
        "  grayscale_cpu(r,g,b,gray,width,height,0.3f,0.59f);\n",
        "  cout  << \"Saving grayscale output\\n\";\n",
        "\n",
        "  //dest.save_jpeg(\"./grayscale.jpg\", 95);\n",
        "  dest.save_pnm(\"result.pgm\");\n",
        "\n",
        "  return 0;\n",
        "}"
      ],
      "metadata": {
        "colab": {
          "base_uri": "https://localhost:8080/"
        },
        "id": "9_gFGQ_I2aVJ",
        "outputId": "9c6a978b-50f8-47e2-e3ab-4d402d8473e5"
      },
      "execution_count": null,
      "outputs": [
        {
          "output_type": "stream",
          "name": "stdout",
          "text": [
            "Writing grayscale.cu\n"
          ]
        }
      ]
    },
    {
      "cell_type": "markdown",
      "source": [
        "Kompilálás:"
      ],
      "metadata": {
        "id": "rxmo1cKyHPoO"
      }
    },
    {
      "cell_type": "code",
      "source": [
        "!nvcc grayscale.cu -lpthread -lX11 -ljpeg"
      ],
      "metadata": {
        "id": "XfOjCQP00h2X"
      },
      "execution_count": null,
      "outputs": []
    },
    {
      "cell_type": "markdown",
      "source": [
        "Futtatás:"
      ],
      "metadata": {
        "id": "XhtlekFCHUJn"
      }
    },
    {
      "cell_type": "code",
      "source": [
        "!./a.out"
      ],
      "metadata": {
        "colab": {
          "base_uri": "https://localhost:8080/"
        },
        "id": "ugBG44ms3w0E",
        "outputId": "f91dc4b6-b911-4206-b693-bf6e9050cade"
      },
      "execution_count": null,
      "outputs": [
        {
          "output_type": "stream",
          "name": "stdout",
          "text": [
            "4000x6000\n",
            "Saving grayscale output\n"
          ]
        }
      ]
    },
    {
      "cell_type": "code",
      "source": [
        "!ls"
      ],
      "metadata": {
        "colab": {
          "base_uri": "https://localhost:8080/"
        },
        "id": "C-bRcCEO-XHE",
        "outputId": "911adf83-31d0-4e52-ff47-8bd4f930b2d3"
      },
      "execution_count": null,
      "outputs": [
        {
          "output_type": "stream",
          "name": "stdout",
          "text": [
            "a.out  grayscale.cu  image.jpg\tresult.pgm  sample_data\n"
          ]
        }
      ]
    },
    {
      "cell_type": "markdown",
      "source": [
        "## CUDA feldolgozás pálda\n",
        "\n",
        "A példa bemutatja, hogyan használhatjuk a CUDA-t 2D szálfeldolgozással képek generálására és feldolgozására a CImg könyvtár segítségével. A kód két különböző képet generál:\n",
        "\n",
        "1. **Szürkeárnyalatú kép** - egyetlen csatornával, ahol a pixel értékek az x és y koordináták alapján változnak\n",
        "2. **Színes kép** - három csatornával (RGB), ahol:\n",
        "   - A piros komponens az x koordinátától függ\n",
        "   - A zöld komponens az y koordinátától függ\n",
        "   - A kék komponens az átlós pozíciótól függ\n",
        "\n",
        "### Fontosabb részletek:\n",
        "\n",
        "- **2D szálszervezés**: Mindkét kernel 2D blokkokkal és rácsokkal dolgozik\n",
        "- **Koordináták kiszámítása**: A `blockIdx`, `blockDim` és `threadIdx` változókat használjuk a pixel koordináták meghatározásához\n",
        "- **Linearizálás**: A többdimenziós koordinátákat linearizáljuk a memória (képadatok) eléréséhez\n",
        "- **CImg integráció**: Bemutatásra kerül, hogyan lehet CImg-t használni a képek létrehozásához és mentéséhez\n",
        "\n",
        "Figyeljük meg, hogyan történik a logikai koordináták és a linearizált memória közötti átalakítás.\n",
        "\n",
        "```cpp\n",
        "# define cimg_use_jpeg\n",
        "# include \"CImg.h\"\n",
        "# include <cuda_runtime.h>\n",
        "# include <iostream>\n",
        "\n",
        "using namespace cimg_library;\n",
        "\n",
        "// Kernel a szürkeárnyalatú kép kitöltésére (színátmenet)\n",
        "__global__ void fillGrayscaleImage(unsigned char* data, int width, int height) {\n",
        "    // 2D thread indexek számítása\n",
        "    int x = blockIdx.x * blockDim.x + threadIdx.x;\n",
        "    int y = blockIdx.y * blockDim.y + threadIdx.y;\n",
        "    \n",
        "    // Ellenőrizzük, hogy a szálidex a kép határain belül van-e\n",
        "    if (x < width && y < height) {\n",
        "        // Linearizált index számítása a memóriához\n",
        "        int idx = y * width + x;\n",
        "        \n",
        "        // Színátmenet létrehozása az x és y koordináták alapján\n",
        "        // Értékek 0-255 között\n",
        "        unsigned char value = (unsigned char)(255.0f * (float)x / width * (float)y / height);\n",
        "        \n",
        "        // Pixel érték beállítása\n",
        "        data[idx] = value;\n",
        "    }\n",
        "}\n",
        "\n",
        "// Kernel a színes kép kitöltésére (RGB)\n",
        "__global__ void fillColorImage(unsigned char* data, int width, int height) {\n",
        "    // 2D thread indexek számítása\n",
        "    int x = blockIdx.x * blockDim.x + threadIdx.x;\n",
        "    int y = blockIdx.y * blockDim.y + threadIdx.y;\n",
        "    \n",
        "    // Ellenőrizzük, hogy a szálidex a kép határain belül van-e\n",
        "    if (x < width && y < height) {\n",
        "        // Linearizált index számítása az egyes színcsatornáknál\n",
        "        // A CImg tárolási módja: RRRR...GGGG...BBBB\n",
        "        int pixelIndex = y * width + x;\n",
        "        int totalPixels = width * height;\n",
        "        \n",
        "        // Piros komponens - x-től függ (az első csatorna a 0 offsettel kezdődik)\n",
        "        data[pixelIndex] = (unsigned char)(255.0f * (float)x / width);\n",
        "        \n",
        "        // Zöld komponens - y-tól függ (a második csatorna a totalPixels offsettel kezdődik)\n",
        "        data[pixelIndex + totalPixels] = (unsigned char)(255.0f * (float)y / height);\n",
        "        \n",
        "        // Kék komponens - x és y átlójától függ (a harmadik csatorna a 2*totalPixels offsettel kezdődik)\n",
        "        float diagonal = (float)(x + y) / (width + height);\n",
        "        data[pixelIndex + 2 * totalPixels] = (unsigned char)(255.0f * diagonal);\n",
        "    }\n",
        "}\n",
        "\n",
        "// Hibakezelő segédfüggvény\n",
        "void checkCudaError(cudaError_t err, const char* msg) {\n",
        "    if (err != cudaSuccess) {\n",
        "        std::cerr << \"CUDA Error: \" << msg << \" - \" << cudaGetErrorString(err) << std::endl;\n",
        "        exit(EXIT_FAILURE);\n",
        "    }\n",
        "}\n",
        "\n",
        "int main() {\n",
        "    // Kép méretek\n",
        "    const int width = 512;\n",
        "    const int height = 512;\n",
        "    cudaError_t err;\n",
        "    \n",
        "    // 1. Szürkeárnyalatú kép\n",
        "    {\n",
        "        // Szürkeárnyalatú kép létrehozása (1 színcsatorna)\n",
        "        CImg<unsigned char> grayscaleImg(width, height, 1, 1);\n",
        "        \n",
        "        // Memória foglalása a GPU-n\n",
        "        unsigned char* d_data;\n",
        "        size_t grayscaleSize = width * height * sizeof(unsigned char);\n",
        "        err = cudaMalloc(&d_data, grayscaleSize);\n",
        "        checkCudaError(err, \"Nem sikerült memóriát foglalni a szürkeárnyalatú képhez\");\n",
        "        \n",
        "        // Inicializáljuk nullákkal a GPU memóriát\n",
        "        err = cudaMemset(d_data, 0, grayscaleSize);\n",
        "        checkCudaError(err, \"Nem sikerült inicializálni a GPU memóriát\");\n",
        "        \n",
        "        // Thread és block méretek beállítása\n",
        "        dim3 threadsPerBlock(16, 16);\n",
        "        dim3 numBlocks((width + threadsPerBlock.x - 1) / threadsPerBlock.x,\n",
        "                      (height + threadsPerBlock.y - 1) / threadsPerBlock.y);\n",
        "        \n",
        "        // Kernel futtatása\n",
        "        fillGrayscaleImage<<<numBlocks, threadsPerBlock>>>(d_data, width, height);\n",
        "        err = cudaGetLastError();\n",
        "        checkCudaError(err, \"Kernel futtatási hiba (szürkeárnyalatú)\");\n",
        "        \n",
        "        // Várakozás a kernel befejezésére\n",
        "        err = cudaDeviceSynchronize();\n",
        "        checkCudaError(err, \"Szinkronizációs hiba\");\n",
        "        \n",
        "        // Adatok visszamásolása a GPU-ról\n",
        "        err = cudaMemcpy(grayscaleImg.data(), d_data, grayscaleSize, cudaMemcpyDeviceToHost);\n",
        "        checkCudaError(err, \"Memória másolási hiba (device to host)\");\n",
        "        \n",
        "        // GPU memória felszabadítása\n",
        "        cudaFree(d_data);\n",
        "        \n",
        "        // Kép mentése\n",
        "        grayscaleImg.save_pnm(\"grayscale_result.pgm\");\n",
        "        std::cout << \"Szürkeárnyalatú kép elkészült: grayscale_result.pgm\" << std::endl;\n",
        "    }\n",
        "    \n",
        "    // 2. Színes kép\n",
        "    {\n",
        "        // Színes kép létrehozása (3 színcsatorna: R, G, B)\n",
        "        CImg<unsigned char> colorImg(width, height, 1, 3);\n",
        "        \n",
        "        // Memória foglalása a GPU-n\n",
        "        unsigned char* d_data;\n",
        "        size_t colorSize = width * height * 3 * sizeof(unsigned char);\n",
        "        err = cudaMalloc(&d_data, colorSize);\n",
        "        checkCudaError(err, \"Nem sikerült memóriát foglalni a színes képhez\");\n",
        "        \n",
        "        // Inicializáljuk nullákkal a GPU memóriát\n",
        "        err = cudaMemset(d_data, 0, colorSize);\n",
        "        checkCudaError(err, \"Nem sikerült inicializálni a GPU memóriát\");\n",
        "        \n",
        "        // Thread és block méretek beállítása\n",
        "        dim3 threadsPerBlock(16, 16);\n",
        "        dim3 numBlocks((width + threadsPerBlock.x - 1) / threadsPerBlock.x,\n",
        "                      (height + threadsPerBlock.y - 1) / threadsPerBlock.y);\n",
        "        \n",
        "        // Kernel futtatása\n",
        "        fillColorImage<<<numBlocks, threadsPerBlock>>>(d_data, width, height);\n",
        "        err = cudaGetLastError();\n",
        "        checkCudaError(err, \"Kernel futtatási hiba (színes)\");\n",
        "        \n",
        "        // Várakozás a kernel befejezésére\n",
        "        err = cudaDeviceSynchronize();\n",
        "        checkCudaError(err, \"Szinkronizációs hiba\");\n",
        "        \n",
        "        // Adatok visszamásolása a GPU-ról\n",
        "        err = cudaMemcpy(colorImg.data(), d_data, colorSize, cudaMemcpyDeviceToHost);\n",
        "        checkCudaError(err, \"Memória másolási hiba (device to host)\");\n",
        "        \n",
        "        // GPU memória felszabadítása\n",
        "        cudaFree(d_data);\n",
        "        \n",
        "        // Kép mentése\n",
        "        colorImg.save_pnm(\"color_result.ppm\");\n",
        "        std::cout << \"Színes kép elkészült: color_result.ppm\" << std::endl;\n",
        "    }\n",
        "    \n",
        "    return 0;\n",
        "}\n",
        "```"
      ],
      "metadata": {
        "id": "9Cbvdpn2bCEX"
      }
    },
    {
      "cell_type": "code",
      "source": [
        "%%writefile cimgtest.cu\n",
        "\n",
        "# define cimg_use_jpeg\n",
        "# include \"CImg.h\"\n",
        "# include <cuda_runtime.h>\n",
        "# include <iostream>\n",
        "\n",
        "using namespace cimg_library;\n",
        "\n",
        "// Kernel a szürkeárnyalatú kép kitöltésére (színátmenet)\n",
        "__global__ void fillGrayscaleImage(unsigned char* data, int width, int height) {\n",
        "    // 2D thread indexek számítása\n",
        "    int x = blockIdx.x * blockDim.x + threadIdx.x;\n",
        "    int y = blockIdx.y * blockDim.y + threadIdx.y;\n",
        "\n",
        "    // Ellenőrizzük, hogy a szálidex a kép határain belül van-e\n",
        "    if (x < width && y < height) {\n",
        "        // Linearizált index számítása a memóriához\n",
        "        int idx = y * width + x;\n",
        "\n",
        "        // Színátmenet létrehozása az x és y koordináták alapján\n",
        "        // Értékek 0-255 között\n",
        "        unsigned char value = (unsigned char)(255.0f * (float)x / width * (float)y / height);\n",
        "\n",
        "        // Pixel érték beállítása\n",
        "        data[idx] = value;\n",
        "    }\n",
        "}\n",
        "\n",
        "// Kernel a színes kép kitöltésére (RGB)\n",
        "__global__ void fillColorImage(unsigned char* data, int width, int height) {\n",
        "    // 2D thread indexek számítása\n",
        "    int x = blockIdx.x * blockDim.x + threadIdx.x;\n",
        "    int y = blockIdx.y * blockDim.y + threadIdx.y;\n",
        "\n",
        "    // Ellenőrizzük, hogy a szálidex a kép határain belül van-e\n",
        "    if (x < width && y < height) {\n",
        "        // Linearizált index számítása az egyes színcsatornáknál\n",
        "        // A CImg tárolási módja: RRRR...GGGG...BBBB\n",
        "        int pixelIndex = y * width + x;\n",
        "        int totalPixels = width * height;\n",
        "\n",
        "        // Piros komponens - x-től függ (az első csatorna a 0 offsettel kezdődik)\n",
        "        data[pixelIndex] = (unsigned char)(255.0f * (float)x / width);\n",
        "\n",
        "        // Zöld komponens - y-tól függ (a második csatorna a totalPixels offsettel kezdődik)\n",
        "        data[pixelIndex + totalPixels] = (unsigned char)(255.0f * (float)y / height);\n",
        "\n",
        "        // Kék komponens - x és y átlójától függ (a harmadik csatorna a 2*totalPixels offsettel kezdődik)\n",
        "        float diagonal = (float)(x + y) / (width + height);\n",
        "        data[pixelIndex + 2 * totalPixels] = (unsigned char)(255.0f * diagonal);\n",
        "    }\n",
        "}\n",
        "\n",
        "// Hibakezelő segédfüggvény\n",
        "void checkCudaError(cudaError_t err, const char* msg) {\n",
        "    if (err != cudaSuccess) {\n",
        "        std::cerr << \"CUDA Error: \" << msg << \" - \" << cudaGetErrorString(err) << std::endl;\n",
        "        exit(EXIT_FAILURE);\n",
        "    }\n",
        "}\n",
        "\n",
        "int main() {\n",
        "    // Kép méretek\n",
        "    const int width = 512;\n",
        "    const int height = 512;\n",
        "    cudaError_t err;\n",
        "\n",
        "    // 1. Szürkeárnyalatú kép\n",
        "    {\n",
        "        // Szürkeárnyalatú kép létrehozása (1 színcsatorna)\n",
        "        CImg<unsigned char> grayscaleImg(width, height, 1, 1);\n",
        "\n",
        "        // Memória foglalása a GPU-n\n",
        "        unsigned char* d_data;\n",
        "        size_t grayscaleSize = width * height * sizeof(unsigned char);\n",
        "        err = cudaMalloc(&d_data, grayscaleSize);\n",
        "        checkCudaError(err, \"Nem sikerült memóriát foglalni a szürkeárnyalatú képhez\");\n",
        "\n",
        "        // Inicializáljuk nullákkal a GPU memóriát\n",
        "        err = cudaMemset(d_data, 0, grayscaleSize);\n",
        "        checkCudaError(err, \"Nem sikerült inicializálni a GPU memóriát\");\n",
        "\n",
        "        // Thread és block méretek beállítása\n",
        "        dim3 threadsPerBlock(16, 16);\n",
        "        dim3 numBlocks((width + threadsPerBlock.x - 1) / threadsPerBlock.x,\n",
        "                      (height + threadsPerBlock.y - 1) / threadsPerBlock.y);\n",
        "\n",
        "        // Kernel futtatása\n",
        "        fillGrayscaleImage<<<numBlocks, threadsPerBlock>>>(d_data, width, height);\n",
        "        err = cudaGetLastError();\n",
        "        checkCudaError(err, \"Kernel futtatási hiba (szürkeárnyalatú)\");\n",
        "\n",
        "        // Várakozás a kernel befejezésére\n",
        "        err = cudaDeviceSynchronize();\n",
        "        checkCudaError(err, \"Szinkronizációs hiba\");\n",
        "\n",
        "        // Adatok visszamásolása a GPU-ról\n",
        "        err = cudaMemcpy(grayscaleImg.data(), d_data, grayscaleSize, cudaMemcpyDeviceToHost);\n",
        "        checkCudaError(err, \"Memória másolási hiba (device to host)\");\n",
        "\n",
        "        // GPU memória felszabadítása\n",
        "        cudaFree(d_data);\n",
        "\n",
        "        // Kép mentése\n",
        "        grayscaleImg.save_pnm(\"grayscale_result.pgm\");\n",
        "        std::cout << \"Szürkeárnyalatú kép elkészült: grayscale_result.pgm\" << std::endl;\n",
        "    }\n",
        "\n",
        "    // 2. Színes kép\n",
        "    {\n",
        "        // Színes kép létrehozása (3 színcsatorna: R, G, B)\n",
        "        CImg<unsigned char> colorImg(width, height, 1, 3);\n",
        "\n",
        "        // Memória foglalása a GPU-n\n",
        "        unsigned char* d_data;\n",
        "        size_t colorSize = width * height * 3 * sizeof(unsigned char);\n",
        "        err = cudaMalloc(&d_data, colorSize);\n",
        "        checkCudaError(err, \"Nem sikerült memóriát foglalni a színes képhez\");\n",
        "\n",
        "        // Inicializáljuk nullákkal a GPU memóriát\n",
        "        err = cudaMemset(d_data, 0, colorSize);\n",
        "        checkCudaError(err, \"Nem sikerült inicializálni a GPU memóriát\");\n",
        "\n",
        "        // Thread és block méretek beállítása\n",
        "        dim3 threadsPerBlock(16, 16);\n",
        "        dim3 numBlocks((width + threadsPerBlock.x - 1) / threadsPerBlock.x,\n",
        "                      (height + threadsPerBlock.y - 1) / threadsPerBlock.y);\n",
        "\n",
        "        // Kernel futtatása\n",
        "        fillColorImage<<<numBlocks, threadsPerBlock>>>(d_data, width, height);\n",
        "        err = cudaGetLastError();\n",
        "        checkCudaError(err, \"Kernel futtatási hiba (színes)\");\n",
        "\n",
        "        // Várakozás a kernel befejezésére\n",
        "        err = cudaDeviceSynchronize();\n",
        "        checkCudaError(err, \"Szinkronizációs hiba\");\n",
        "\n",
        "        // Adatok visszamásolása a GPU-ról\n",
        "        err = cudaMemcpy(colorImg.data(), d_data, colorSize, cudaMemcpyDeviceToHost);\n",
        "        checkCudaError(err, \"Memória másolási hiba (device to host)\");\n",
        "\n",
        "        // GPU memória felszabadítása\n",
        "        cudaFree(d_data);\n",
        "\n",
        "        // Kép mentése\n",
        "        colorImg.save_pnm(\"color_result.ppm\");\n",
        "        std::cout << \"Színes kép elkészült: color_result.ppm\" << std::endl;\n",
        "    }\n",
        "\n",
        "    return 0;\n",
        "}"
      ],
      "metadata": {
        "colab": {
          "base_uri": "https://localhost:8080/"
        },
        "id": "KxnrRU-4dueK",
        "outputId": "0afb8dba-7e28-440b-999d-acb52aa00199"
      },
      "execution_count": null,
      "outputs": [
        {
          "output_type": "stream",
          "name": "stdout",
          "text": [
            "Writing cimgtest.cu\n"
          ]
        }
      ]
    },
    {
      "cell_type": "code",
      "source": [
        "!nvcc -arch=sm_75 cimgtest.cu -lpthread -lX11 -ljpeg"
      ],
      "metadata": {
        "id": "0NH5TZ7xd6VL"
      },
      "execution_count": null,
      "outputs": []
    },
    {
      "cell_type": "code",
      "source": [
        "!./a.out"
      ],
      "metadata": {
        "colab": {
          "base_uri": "https://localhost:8080/"
        },
        "id": "XQq-7E6nemFJ",
        "outputId": "69732da3-75f4-4f7f-f893-919835bd7ac5"
      },
      "execution_count": null,
      "outputs": [
        {
          "output_type": "stream",
          "name": "stdout",
          "text": [
            "Szürkeárnyalatú kép elkészült: grayscale_result.pgm\n",
            "Színes kép elkészült: color_result.ppm\n"
          ]
        }
      ]
    },
    {
      "cell_type": "markdown",
      "source": [
        "GPU teszt:"
      ],
      "metadata": {
        "id": "6L8pykxOK6s0"
      }
    },
    {
      "cell_type": "code",
      "source": [
        "import tensorflow as tf\n",
        "device_name = tf.test.gpu_device_name()\n",
        "if device_name != '/device:GPU:0':\n",
        "  raise SystemError('GPU device not found')\n",
        "print('Found GPU at: {}'.format(device_name))"
      ],
      "metadata": {
        "id": "tcQWOk8UK9z1",
        "outputId": "39955a01-38ba-4993-d00c-dc285b34305e",
        "colab": {
          "base_uri": "https://localhost:8080/"
        }
      },
      "execution_count": null,
      "outputs": [
        {
          "output_type": "stream",
          "name": "stdout",
          "text": [
            "Found GPU at: /device:GPU:0\n"
          ]
        }
      ]
    },
    {
      "cell_type": "markdown",
      "source": [
        "# Feladatok\n",
        "\n",
        "1. Futtassuk és ellemezük az fenti értéklevágó példát.\n",
        "\t* Hány globális memóriaolvasást hajt végre a kernel?\n",
        "\t* Mi az a maximális vektor méret amire még lefut a program?\n",
        "\t* Mit kell változtassunk a program szerkezetén, hogy akár több gigabájt memóriát is sikerüljön lefoglalni?\n",
        "\n",
        "2. Írjunk egy CUDA programot mely kiszámolja két `N x N` négyzetes mátrix mellékátlóra szimmetrikus összegét:\n",
        "\n",
        "\t`C(x, y) = A(x, y) + B(N-x, N-y)`\n",
        "\n",
        "\tPl.\n",
        "\n",
        "\t```\n",
        "       _      _\n",
        "      |11 13 15|\n",
        "    A =|17 19 21|\n",
        "      |23 25 27|\n",
        "      -      -\n",
        "\n",
        "        _      _\n",
        "       |64 60 56|\n",
        "    B =|52 48 44|\n",
        "       |40 36 32|\n",
        "       -      -\n",
        "\n",
        "         _              _\n",
        "        |11+32 13+36 15+40|\n",
        "    C = |17+44 19+48 21+52|\n",
        "        |23+56 25+60 27+64|\n",
        "         -               -\n",
        "\t```\n",
        "\n",
        "\n"
      ],
      "metadata": {
        "id": "OHJTyfOOHyjO"
      }
    },
    {
      "cell_type": "markdown",
      "source": [
        "  Próbáljuk ki az egydimenziós és kétdimenziós rács és blokkszervezést is. Melyik esetben könnyebb megírni a kernelt?"
      ],
      "metadata": {
        "id": "6C4hZyX-Ksu-"
      }
    },
    {
      "cell_type": "markdown",
      "source": [
        "3. A fentebb található példából kiindulva, írjunk egy CUDA programot, mely a GPU-n végzi el egy kép pixeleinek szürkeárnyalatú transzformálásának a műveleteit.\n",
        "  \n",
        "  Lépések:\n",
        "\n",
        "  * memória lefoglalás az eszközön.\n",
        "  * kép másolása az eszközre.\n",
        "  * szálblokk és rács méreteinek, konfigurációjának a meghatározása.\n",
        "  * CUDA kernel meghívása.\n",
        "  * az eredmény másolása az eszközről a gazdagépre (host).\n",
        "  memória felszabadítása az eszközön"
      ],
      "metadata": {
        "id": "7jCtZC8tKS5p"
      }
    }
  ]
}